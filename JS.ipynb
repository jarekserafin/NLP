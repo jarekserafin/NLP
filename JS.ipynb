{
 "cells": [
  {
   "metadata": {},
   "cell_type": "markdown",
   "source": [
    "## Data cleaning\n",
    "\n",
    "• Remove: capital letters, punctuation, numbers, stop words\n",
    "\n",
    "• Stemming \n",
    "\n",
    "• Correct misspellings\n",
    "\n",
    "• Parts of speech tagging\n",
    "\n",
    "• Chunking (named entity recognition, compound term extraction)"
   ],
   "id": "ca0ec7ea55b680a1"
  },
  {
   "metadata": {
    "ExecuteTime": {
     "end_time": "2025-01-18T19:19:03.019583Z",
     "start_time": "2025-01-18T19:19:01.897606Z"
    }
   },
   "cell_type": "code",
   "source": [
    "# Necessary imports\n",
    "from datasets import load_dataset  # In the case of 'Unfair clauses' the data is retrieved using the datasets library\n",
    "import pandas as pd\n",
    "import nltk\n",
    "from nltk.tokenize import word_tokenize\n",
    "from nltk.corpus import stopwords\n",
    "from sklearn.feature_extraction.text import CountVectorizer\n",
    "from sklearn.metrics.pairwise import cosine_similarity\n",
    "from sklearn.feature_extraction.text import TfidfVectorizer\n",
    "\n",
    "# Visualisation\n",
    "import seaborn as sns\n",
    "import matplotlib.pyplot as plt\n"
   ],
   "id": "354bc2b44267ddf3",
   "outputs": [],
   "execution_count": 19
  },
  {
   "metadata": {
    "ExecuteTime": {
     "end_time": "2025-01-18T19:05:57.574928Z",
     "start_time": "2025-01-18T19:05:55.181669Z"
    }
   },
   "cell_type": "code",
   "source": [
    "# Retrieving data using load_dataset function\n",
    "data = load_dataset(\"laugustyniak/abusive-clauses-pl\")"
   ],
   "id": "54cc9d89ea0df6a0",
   "outputs": [],
   "execution_count": 3
  },
  {
   "metadata": {},
   "cell_type": "markdown",
   "source": "## Data overview",
   "id": "d1d5e4fe66dfa376"
  },
  {
   "metadata": {
    "ExecuteTime": {
     "end_time": "2025-01-18T19:06:00.628342Z",
     "start_time": "2025-01-18T19:06:00.624132Z"
    }
   },
   "cell_type": "code",
   "source": "print(data)",
   "id": "a38ae07c65893fa4",
   "outputs": [
    {
     "name": "stdout",
     "output_type": "stream",
     "text": [
      "DatasetDict({\n",
      "    train: Dataset({\n",
      "        features: ['text', 'label'],\n",
      "        num_rows: 4284\n",
      "    })\n",
      "    test: Dataset({\n",
      "        features: ['text', 'label'],\n",
      "        num_rows: 3453\n",
      "    })\n",
      "    validation: Dataset({\n",
      "        features: ['text', 'label'],\n",
      "        num_rows: 1519\n",
      "    })\n",
      "})\n"
     ]
    }
   ],
   "execution_count": 4
  },
  {
   "metadata": {},
   "cell_type": "markdown",
   "source": "The data is divided into sets: train, test and validation.",
   "id": "d5eb3a2a0d19fe20"
  },
  {
   "metadata": {
    "ExecuteTime": {
     "end_time": "2025-01-18T19:06:01.770708Z",
     "start_time": "2025-01-18T19:06:01.749564Z"
    }
   },
   "cell_type": "code",
   "source": [
    "# Transforming data to Pandas DataFrame\n",
    "df_train = data['train'].to_pandas()\n",
    "df_test = data['test'].to_pandas()\n",
    "df_validation = data['validation'].to_pandas()"
   ],
   "id": "d6136c0738de95b8",
   "outputs": [],
   "execution_count": 5
  },
  {
   "metadata": {
    "ExecuteTime": {
     "end_time": "2025-01-18T19:06:02.749977Z",
     "start_time": "2025-01-18T19:06:02.739082Z"
    }
   },
   "cell_type": "code",
   "source": "df_train.head(10)",
   "id": "9ca7f3718469dcd3",
   "outputs": [
    {
     "data": {
      "text/plain": [
       "                                                text  label\n",
       "0  Wszelka korespondencja wysyłana przez Pożyczko...      0\n",
       "1  W przypadku opóźnień Pożyczkobiorcy w spłacie ...      0\n",
       "2  W przypadku opóźnień Pożyczkobiorcy w spłacie ...      0\n",
       "3  Pożyczkobiorca zleca firmie Narodowy Fundusz P...      0\n",
       "4  Od niespłaconej w terminie raty Pożyczkobiorca...      0\n",
       "5  Pożyczkobiorca ma prawo wybrać inny sposób prz...      0\n",
       "6  W przypadku braku spłaty pożyczki w terminie P...      0\n",
       "7  Zabezpieczeniem spłaty pożyczki będzie podpisa...      0\n",
       "8  Termin zwrotu pożyczki strony ustalają na 01 w...      0\n",
       "9  Okres trwania pożyczki wynosi 1 miesiąc, przy ...      0"
      ],
      "text/html": [
       "<div>\n",
       "<style scoped>\n",
       "    .dataframe tbody tr th:only-of-type {\n",
       "        vertical-align: middle;\n",
       "    }\n",
       "\n",
       "    .dataframe tbody tr th {\n",
       "        vertical-align: top;\n",
       "    }\n",
       "\n",
       "    .dataframe thead th {\n",
       "        text-align: right;\n",
       "    }\n",
       "</style>\n",
       "<table border=\"1\" class=\"dataframe\">\n",
       "  <thead>\n",
       "    <tr style=\"text-align: right;\">\n",
       "      <th></th>\n",
       "      <th>text</th>\n",
       "      <th>label</th>\n",
       "    </tr>\n",
       "  </thead>\n",
       "  <tbody>\n",
       "    <tr>\n",
       "      <th>0</th>\n",
       "      <td>Wszelka korespondencja wysyłana przez Pożyczko...</td>\n",
       "      <td>0</td>\n",
       "    </tr>\n",
       "    <tr>\n",
       "      <th>1</th>\n",
       "      <td>W przypadku opóźnień Pożyczkobiorcy w spłacie ...</td>\n",
       "      <td>0</td>\n",
       "    </tr>\n",
       "    <tr>\n",
       "      <th>2</th>\n",
       "      <td>W przypadku opóźnień Pożyczkobiorcy w spłacie ...</td>\n",
       "      <td>0</td>\n",
       "    </tr>\n",
       "    <tr>\n",
       "      <th>3</th>\n",
       "      <td>Pożyczkobiorca zleca firmie Narodowy Fundusz P...</td>\n",
       "      <td>0</td>\n",
       "    </tr>\n",
       "    <tr>\n",
       "      <th>4</th>\n",
       "      <td>Od niespłaconej w terminie raty Pożyczkobiorca...</td>\n",
       "      <td>0</td>\n",
       "    </tr>\n",
       "    <tr>\n",
       "      <th>5</th>\n",
       "      <td>Pożyczkobiorca ma prawo wybrać inny sposób prz...</td>\n",
       "      <td>0</td>\n",
       "    </tr>\n",
       "    <tr>\n",
       "      <th>6</th>\n",
       "      <td>W przypadku braku spłaty pożyczki w terminie P...</td>\n",
       "      <td>0</td>\n",
       "    </tr>\n",
       "    <tr>\n",
       "      <th>7</th>\n",
       "      <td>Zabezpieczeniem spłaty pożyczki będzie podpisa...</td>\n",
       "      <td>0</td>\n",
       "    </tr>\n",
       "    <tr>\n",
       "      <th>8</th>\n",
       "      <td>Termin zwrotu pożyczki strony ustalają na 01 w...</td>\n",
       "      <td>0</td>\n",
       "    </tr>\n",
       "    <tr>\n",
       "      <th>9</th>\n",
       "      <td>Okres trwania pożyczki wynosi 1 miesiąc, przy ...</td>\n",
       "      <td>0</td>\n",
       "    </tr>\n",
       "  </tbody>\n",
       "</table>\n",
       "</div>"
      ]
     },
     "execution_count": 6,
     "metadata": {},
     "output_type": "execute_result"
    }
   ],
   "execution_count": 6
  },
  {
   "metadata": {},
   "cell_type": "markdown",
   "source": "In the 'text' column there is text of agreement. In the 'label' (output) column there are two possible values: 0 in the case of abusive clause\\, and 1 in the case of correct agreement statement",
   "id": "3fe30f929a7cb38a"
  },
  {
   "metadata": {
    "ExecuteTime": {
     "end_time": "2025-01-18T19:06:17.390132Z",
     "start_time": "2025-01-18T19:06:17.378736Z"
    }
   },
   "cell_type": "code",
   "source": [
    "# Checking if there are any null values in the 'text' column of the train, test, or validation\n",
    "print(df_train['text'].isnull().any() or df_test['text'].isnull().any() or df_validation['text'].isnull().any())"
   ],
   "id": "844ea42f0b85e03e",
   "outputs": [
    {
     "name": "stdout",
     "output_type": "stream",
     "text": [
      "False\n"
     ]
    }
   ],
   "execution_count": 7
  },
  {
   "metadata": {
    "ExecuteTime": {
     "end_time": "2025-01-18T19:06:17.961875Z",
     "start_time": "2025-01-18T19:06:17.955325Z"
    }
   },
   "cell_type": "code",
   "source": [
    "# Percentage of abusive clauses and correct agreement statements\n",
    "print(round(df_train['label'].value_counts()/len(df_train['label']) * 100, 2))"
   ],
   "id": "f147cb7100373b8",
   "outputs": [
    {
     "name": "stdout",
     "output_type": "stream",
     "text": [
      "label\n",
      "1    54.58\n",
      "0    45.42\n",
      "Name: count, dtype: float64\n"
     ]
    }
   ],
   "execution_count": 8
  },
  {
   "metadata": {
    "ExecuteTime": {
     "end_time": "2025-01-18T19:21:51.709802Z",
     "start_time": "2025-01-18T19:21:51.698341Z"
    }
   },
   "cell_type": "code",
   "source": [
    "# Calculating the length of each agreement\n",
    "df_train['text_length'] = df_train['text'].apply(len)"
   ],
   "id": "1e20bed105d98fb4",
   "outputs": [],
   "execution_count": 20
  },
  {
   "metadata": {
    "ExecuteTime": {
     "end_time": "2025-01-18T19:24:10.821195Z",
     "start_time": "2025-01-18T19:24:10.618162Z"
    }
   },
   "cell_type": "code",
   "source": [
    "plt.figure(figsize=(10, 6))\n",
    "sns.histplot(df_train['text_length'], kde=True, bins=30, color='green')\n",
    "plt.title('Distribution of content length in agreement texts', fontsize=16)\n",
    "plt.xlabel('Content length (number of characters)', fontsize=12)\n",
    "plt.ylabel('Frequency', fontsize=12)\n",
    "plt.xlim(left=0)\n",
    "plt.show()"
   ],
   "id": "36b7f9cd3927b72c",
   "outputs": [
    {
     "data": {
      "text/plain": [
       "<Figure size 1000x600 with 1 Axes>"
      ],
      "image/png": "[encoded data removed]"
     },
     "metadata": {},
     "output_type": "display_data"
    }
   ],
   "execution_count": 24
  },
  {
   "metadata": {},
   "cell_type": "markdown",
   "source": "From the chart it can be concluded that most of the content of the agreements does not exceed 200 characters.",
   "id": "56e9e7f7ce4555a0"
  },
  {
   "metadata": {},
   "cell_type": "markdown",
   "source": [
    "## 2. Data preprocessing\n",
    "\n",
    "short description"
   ],
   "id": "ab1c303f797fedaa"
  },
  {
   "metadata": {
    "ExecuteTime": {
     "end_time": "2025-01-18T19:06:45.141855Z",
     "start_time": "2025-01-18T19:06:45.135062Z"
    }
   },
   "cell_type": "code",
   "source": "df_train['text'].iloc[9]",
   "id": "d63a8abae2591c98",
   "outputs": [
    {
     "data": {
      "text/plain": [
       "'Okres trwania pożyczki wynosi 1 miesiąc, przy czym może zostać przedłużana co miesiąc do 24 miesięcy'"
      ]
     },
     "execution_count": 10,
     "metadata": {},
     "output_type": "execute_result"
    }
   ],
   "execution_count": 10
  },
  {
   "metadata": {
    "ExecuteTime": {
     "end_time": "2025-01-18T19:07:14.487961Z",
     "start_time": "2025-01-18T19:07:14.434555Z"
    }
   },
   "cell_type": "code",
   "source": [
    "# Removing numbers from the text using regex pattern\n",
    "pattern = r'\\b\\w*\\d\\w*\\b'\n",
    "df_train['text'] = df_train['text'].str.replace(pattern, '', regex=True).str.strip()\n",
    "df_train['text'].iloc[9]"
   ],
   "id": "317a9fdc19cb8700",
   "outputs": [
    {
     "data": {
      "text/plain": [
       "'Okres trwania pożyczki wynosi  miesiąc, przy czym może zostać przedłużana co miesiąc do  miesięcy'"
      ]
     },
     "execution_count": 13,
     "metadata": {},
     "output_type": "execute_result"
    }
   ],
   "execution_count": 13
  },
  {
   "metadata": {
    "ExecuteTime": {
     "end_time": "2025-01-18T19:11:01.469628Z",
     "start_time": "2025-01-18T19:11:01.447254Z"
    }
   },
   "cell_type": "code",
   "source": [
    "# Removing capital letters from the content\n",
    "df_train['text'] = df_train['text'].str.lower()\n",
    "df_train['text'].iloc[9]"
   ],
   "id": "ee46ddd26e4d4666",
   "outputs": [
    {
     "data": {
      "text/plain": [
       "'okres trwania pożyczki wynosi  miesiąc, przy czym może zostać przedłużana co miesiąc do  miesięcy'"
      ]
     },
     "execution_count": 15,
     "metadata": {},
     "output_type": "execute_result"
    }
   ],
   "execution_count": 15
  },
  {
   "metadata": {
    "ExecuteTime": {
     "end_time": "2025-01-18T19:12:14.630943Z",
     "start_time": "2025-01-18T19:12:14.607254Z"
    }
   },
   "cell_type": "code",
   "source": [
    "# Removing punctuation marks from the content\n",
    "df_train['text'] = df_train['text'].str.replace(r'[^\\w\\s]','',regex=True)\n",
    "df_train['text'].iloc[9]"
   ],
   "id": "3a108d4feac7ea62",
   "outputs": [
    {
     "data": {
      "text/plain": [
       "'okres trwania pożyczki wynosi  miesiąc przy czym może zostać przedłużana co miesiąc do  miesięcy'"
      ]
     },
     "execution_count": 16,
     "metadata": {},
     "output_type": "execute_result"
    }
   ],
   "execution_count": 16
  },
  {
   "metadata": {},
   "cell_type": "code",
   "outputs": [],
   "execution_count": null,
   "source": "",
   "id": "201fa5c4fed0f09b"
  }
 ],
 "metadata": {
  "kernelspec": {
   "display_name": "Python 3",
   "language": "python",
   "name": "python3"
  },
  "language_info": {
   "codemirror_mode": {
    "name": "ipython",
    "version": 2
   },
   "file_extension": ".py",
   "mimetype": "text/x-python",
   "name": "python",
   "nbconvert_exporter": "python",
   "pygments_lexer": "ipython2",
   "version": "2.7.6"
  }
 },
 "nbformat": 4,
 "nbformat_minor": 5
}
