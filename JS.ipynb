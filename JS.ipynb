{
 "cells": [
  {
   "metadata": {},
   "cell_type": "markdown",
   "source": "## 1. Tokenization",
   "id": "594ee456b668626a"
  },
  {
   "metadata": {},
   "cell_type": "markdown",
   "source": [
    "## 2. Data cleaning\n",
    "\n",
    "• Remove: capital letters, punctuation, numbers, stop words\n",
    "\n",
    "• Stemming \n",
    "\n",
    "• Correct misspellings\n",
    "\n",
    "• Parts of speech tagging\n",
    "\n",
    "• Chunking (named entity recognition, compound term extraction)"
   ],
   "id": "ca0ec7ea55b680a1"
  },
  {
   "metadata": {},
   "cell_type": "code",
   "outputs": [],
   "execution_count": null,
   "source": "",
   "id": "54cc9d89ea0df6a0"
  }
 ],
 "metadata": {
  "kernelspec": {
   "display_name": "Python 3",
   "language": "python",
   "name": "python3"
  },
  "language_info": {
   "codemirror_mode": {
    "name": "ipython",
    "version": 2
   },
   "file_extension": ".py",
   "mimetype": "text/x-python",
   "name": "python",
   "nbconvert_exporter": "python",
   "pygments_lexer": "ipython2",
   "version": "2.7.6"
  }
 },
 "nbformat": 4,
 "nbformat_minor": 5
}
