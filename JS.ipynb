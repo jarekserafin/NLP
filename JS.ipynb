{
 "cells": [
  {
   "metadata": {},
   "cell_type": "markdown",
   "source": [
    "## Data cleaning\n",
    "\n",
    "• Remove: capital letters, punctuation, numbers, stop words\n",
    "\n",
    "• Stemming \n",
    "\n",
    "• Correct misspellings\n",
    "\n",
    "• Parts of speech tagging\n",
    "\n",
    "• Chunking (named entity recognition, compound term extraction)"
   ],
   "id": "ca0ec7ea55b680a1"
  },
  {
   "metadata": {
    "ExecuteTime": {
     "end_time": "2025-01-16T19:37:45.169303Z",
     "start_time": "2025-01-16T19:37:42.367968Z"
    }
   },
   "cell_type": "code",
   "source": [
    "# Necessary imports\n",
    "from datasets import load_dataset  # In the case of 'Unfair clauses' the data is retrieved using the datasets library\n",
    "import pandas as pd\n",
    "import nltk\n",
    "from nltk.tokenize import word_tokenize\n",
    "from nltk.corpus import stopwords\n",
    "from sklearn.feature_extraction.text import CountVectorizer\n",
    "from sklearn.metrics.pairwise import cosine_similarity\n",
    "from sklearn.feature_extraction.text import TfidfVectorizer"
   ],
   "id": "354bc2b44267ddf3",
   "outputs": [],
   "execution_count": 2
  },
  {
   "metadata": {
    "ExecuteTime": {
     "end_time": "2025-01-16T19:38:51.899122Z",
     "start_time": "2025-01-16T19:38:45.264006Z"
    }
   },
   "cell_type": "code",
   "source": [
    "# Retrieving data using load_dataset function\n",
    "data = load_dataset(\"laugustyniak/abusive-clauses-pl\")"
   ],
   "id": "54cc9d89ea0df6a0",
   "outputs": [
    {
     "data": {
      "text/plain": [
       "README.md:   0%|          | 0.00/4.58k [00:00<?, ?B/s]"
      ],
      "application/vnd.jupyter.widget-view+json": {
       "version_major": 2,
       "version_minor": 0,
       "model_id": "17fc204bda744c48b638db6f55a58022"
      }
     },
     "metadata": {},
     "output_type": "display_data"
    },
    {
     "data": {
      "text/plain": [
       "abusive-clauses-pl.py:   0%|          | 0.00/2.43k [00:00<?, ?B/s]"
      ],
      "application/vnd.jupyter.widget-view+json": {
       "version_major": 2,
       "version_minor": 0,
       "model_id": "87228c0ba7f24f8a96c7e5c839a8e9c5"
      }
     },
     "metadata": {},
     "output_type": "display_data"
    },
    {
     "data": {
      "text/plain": [
       "abusive-clauses-pl/train/0000.parquet:   0%|          | 0.00/483k [00:00<?, ?B/s]"
      ],
      "application/vnd.jupyter.widget-view+json": {
       "version_major": 2,
       "version_minor": 0,
       "model_id": "196cac1105164969b11a10d68af133ec"
      }
     },
     "metadata": {},
     "output_type": "display_data"
    },
    {
     "data": {
      "text/plain": [
       "abusive-clauses-pl/test/0000.parquet:   0%|          | 0.00/398k [00:00<?, ?B/s]"
      ],
      "application/vnd.jupyter.widget-view+json": {
       "version_major": 2,
       "version_minor": 0,
       "model_id": "17b82227ab0c4db3838738ae7e2183e1"
      }
     },
     "metadata": {},
     "output_type": "display_data"
    },
    {
     "data": {
      "text/plain": [
       "(…)usive-clauses-pl/validation/0000.parquet:   0%|          | 0.00/231k [00:00<?, ?B/s]"
      ],
      "application/vnd.jupyter.widget-view+json": {
       "version_major": 2,
       "version_minor": 0,
       "model_id": "da62a3700a5646a2ade0a228b1387bb2"
      }
     },
     "metadata": {},
     "output_type": "display_data"
    },
    {
     "data": {
      "text/plain": [
       "Generating train split:   0%|          | 0/4284 [00:00<?, ? examples/s]"
      ],
      "application/vnd.jupyter.widget-view+json": {
       "version_major": 2,
       "version_minor": 0,
       "model_id": "72fc25600a474974b126864a7c544ab2"
      }
     },
     "metadata": {},
     "output_type": "display_data"
    },
    {
     "data": {
      "text/plain": [
       "Generating test split:   0%|          | 0/3453 [00:00<?, ? examples/s]"
      ],
      "application/vnd.jupyter.widget-view+json": {
       "version_major": 2,
       "version_minor": 0,
       "model_id": "35573a03346b4f9bb9c181f2769279d5"
      }
     },
     "metadata": {},
     "output_type": "display_data"
    },
    {
     "data": {
      "text/plain": [
       "Generating validation split:   0%|          | 0/1519 [00:00<?, ? examples/s]"
      ],
      "application/vnd.jupyter.widget-view+json": {
       "version_major": 2,
       "version_minor": 0,
       "model_id": "55c353f8c3724aa7af21ed82ccb94e38"
      }
     },
     "metadata": {},
     "output_type": "display_data"
    }
   ],
   "execution_count": 3
  },
  {
   "metadata": {},
   "cell_type": "markdown",
   "source": "## Data overview",
   "id": "d1d5e4fe66dfa376"
  },
  {
   "metadata": {
    "ExecuteTime": {
     "end_time": "2025-01-16T19:41:15.421680Z",
     "start_time": "2025-01-16T19:41:15.418646Z"
    }
   },
   "cell_type": "code",
   "source": "print(data)",
   "id": "a38ae07c65893fa4",
   "outputs": [
    {
     "name": "stdout",
     "output_type": "stream",
     "text": [
      "DatasetDict({\n",
      "    train: Dataset({\n",
      "        features: ['text', 'label'],\n",
      "        num_rows: 4284\n",
      "    })\n",
      "    test: Dataset({\n",
      "        features: ['text', 'label'],\n",
      "        num_rows: 3453\n",
      "    })\n",
      "    validation: Dataset({\n",
      "        features: ['text', 'label'],\n",
      "        num_rows: 1519\n",
      "    })\n",
      "})\n"
     ]
    }
   ],
   "execution_count": 8
  },
  {
   "metadata": {},
   "cell_type": "markdown",
   "source": "The data is divided into sets: train, test and validation.",
   "id": "d5eb3a2a0d19fe20"
  },
  {
   "metadata": {
    "ExecuteTime": {
     "end_time": "2025-01-16T19:44:27.878707Z",
     "start_time": "2025-01-16T19:44:27.858009Z"
    }
   },
   "cell_type": "code",
   "source": [
    "# Transforming data to Pandas DataFrame\n",
    "df_train = data['train'].to_pandas()\n",
    "df_test = data['test'].to_pandas()\n",
    "df_validation = data['validation'].to_pandas()"
   ],
   "id": "d6136c0738de95b8",
   "outputs": [],
   "execution_count": 11
  },
  {
   "metadata": {
    "ExecuteTime": {
     "end_time": "2025-01-16T19:53:41.957774Z",
     "start_time": "2025-01-16T19:53:41.930249Z"
    }
   },
   "cell_type": "code",
   "source": "df_train.head(10)",
   "id": "9ca7f3718469dcd3",
   "outputs": [
    {
     "data": {
      "text/plain": [
       "                                                text  label\n",
       "0  Wszelka korespondencja wysyłana przez Pożyczko...      0\n",
       "1  W przypadku opóźnień Pożyczkobiorcy w spłacie ...      0\n",
       "2  W przypadku opóźnień Pożyczkobiorcy w spłacie ...      0\n",
       "3  Pożyczkobiorca zleca firmie Narodowy Fundusz P...      0\n",
       "4  Od niespłaconej w terminie raty Pożyczkobiorca...      0\n",
       "5  Pożyczkobiorca ma prawo wybrać inny sposób prz...      0\n",
       "6  W przypadku braku spłaty pożyczki w terminie P...      0\n",
       "7  Zabezpieczeniem spłaty pożyczki będzie podpisa...      0\n",
       "8  Termin zwrotu pożyczki strony ustalają na 01 w...      0\n",
       "9  Okres trwania pożyczki wynosi 1 miesiąc, przy ...      0"
      ],
      "text/html": [
       "<div>\n",
       "<style scoped>\n",
       "    .dataframe tbody tr th:only-of-type {\n",
       "        vertical-align: middle;\n",
       "    }\n",
       "\n",
       "    .dataframe tbody tr th {\n",
       "        vertical-align: top;\n",
       "    }\n",
       "\n",
       "    .dataframe thead th {\n",
       "        text-align: right;\n",
       "    }\n",
       "</style>\n",
       "<table border=\"1\" class=\"dataframe\">\n",
       "  <thead>\n",
       "    <tr style=\"text-align: right;\">\n",
       "      <th></th>\n",
       "      <th>text</th>\n",
       "      <th>label</th>\n",
       "    </tr>\n",
       "  </thead>\n",
       "  <tbody>\n",
       "    <tr>\n",
       "      <th>0</th>\n",
       "      <td>Wszelka korespondencja wysyłana przez Pożyczko...</td>\n",
       "      <td>0</td>\n",
       "    </tr>\n",
       "    <tr>\n",
       "      <th>1</th>\n",
       "      <td>W przypadku opóźnień Pożyczkobiorcy w spłacie ...</td>\n",
       "      <td>0</td>\n",
       "    </tr>\n",
       "    <tr>\n",
       "      <th>2</th>\n",
       "      <td>W przypadku opóźnień Pożyczkobiorcy w spłacie ...</td>\n",
       "      <td>0</td>\n",
       "    </tr>\n",
       "    <tr>\n",
       "      <th>3</th>\n",
       "      <td>Pożyczkobiorca zleca firmie Narodowy Fundusz P...</td>\n",
       "      <td>0</td>\n",
       "    </tr>\n",
       "    <tr>\n",
       "      <th>4</th>\n",
       "      <td>Od niespłaconej w terminie raty Pożyczkobiorca...</td>\n",
       "      <td>0</td>\n",
       "    </tr>\n",
       "    <tr>\n",
       "      <th>5</th>\n",
       "      <td>Pożyczkobiorca ma prawo wybrać inny sposób prz...</td>\n",
       "      <td>0</td>\n",
       "    </tr>\n",
       "    <tr>\n",
       "      <th>6</th>\n",
       "      <td>W przypadku braku spłaty pożyczki w terminie P...</td>\n",
       "      <td>0</td>\n",
       "    </tr>\n",
       "    <tr>\n",
       "      <th>7</th>\n",
       "      <td>Zabezpieczeniem spłaty pożyczki będzie podpisa...</td>\n",
       "      <td>0</td>\n",
       "    </tr>\n",
       "    <tr>\n",
       "      <th>8</th>\n",
       "      <td>Termin zwrotu pożyczki strony ustalają na 01 w...</td>\n",
       "      <td>0</td>\n",
       "    </tr>\n",
       "    <tr>\n",
       "      <th>9</th>\n",
       "      <td>Okres trwania pożyczki wynosi 1 miesiąc, przy ...</td>\n",
       "      <td>0</td>\n",
       "    </tr>\n",
       "  </tbody>\n",
       "</table>\n",
       "</div>"
      ]
     },
     "execution_count": 26,
     "metadata": {},
     "output_type": "execute_result"
    }
   ],
   "execution_count": 26
  },
  {
   "metadata": {},
   "cell_type": "markdown",
   "source": "In the 'text' column there is text of agreement. In the 'label' (output) column there are two possible values: 0 in the case of abusive clause\\, and 1 in the case of correct agreement statement",
   "id": "3fe30f929a7cb38a"
  },
  {
   "metadata": {
    "ExecuteTime": {
     "end_time": "2025-01-16T19:47:53.590179Z",
     "start_time": "2025-01-16T19:47:53.579718Z"
    }
   },
   "cell_type": "code",
   "source": [
    "# Checking if there are any null values in the 'text' column of the train, test, or validation\n",
    "print(df_train['text'].isnull().any() or df_test['text'].isnull().any() or df_validation['text'].isnull().any())"
   ],
   "id": "844ea42f0b85e03e",
   "outputs": [
    {
     "name": "stdout",
     "output_type": "stream",
     "text": [
      "False\n"
     ]
    }
   ],
   "execution_count": 20
  },
  {
   "metadata": {
    "ExecuteTime": {
     "end_time": "2025-01-16T20:03:37.672526Z",
     "start_time": "2025-01-16T20:03:37.659814Z"
    }
   },
   "cell_type": "code",
   "source": [
    "# Percentage of abusive clauses and correct agreement statements\n",
    "print(round(df_train['label'].value_counts()/len(df_train['label']) * 100, 2))"
   ],
   "id": "f147cb7100373b8",
   "outputs": [
    {
     "name": "stdout",
     "output_type": "stream",
     "text": [
      "label\n",
      "1    54.58\n",
      "0    45.42\n",
      "Name: count, dtype: float64\n"
     ]
    }
   ],
   "execution_count": 32
  },
  {
   "metadata": {},
   "cell_type": "markdown",
   "source": [
    "## 2. Data cleaning\n",
    "\n",
    "short description"
   ],
   "id": "ab1c303f797fedaa"
  },
  {
   "metadata": {},
   "cell_type": "code",
   "outputs": [],
   "execution_count": null,
   "source": "",
   "id": "317a9fdc19cb8700"
  }
 ],
 "metadata": {
  "kernelspec": {
   "display_name": "Python 3",
   "language": "python",
   "name": "python3"
  },
  "language_info": {
   "codemirror_mode": {
    "name": "ipython",
    "version": 2
   },
   "file_extension": ".py",
   "mimetype": "text/x-python",
   "name": "python",
   "nbconvert_exporter": "python",
   "pygments_lexer": "ipython2",
   "version": "2.7.6"
  }
 },
 "nbformat": 4,
 "nbformat_minor": 5
}
